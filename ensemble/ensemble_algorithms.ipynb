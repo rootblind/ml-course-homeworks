{
 "cells": [
  {
   "cell_type": "markdown",
   "metadata": {},
   "source": [
    "## Introduction to Ensemble Algorithms\n",
    "\n",
    "Ensemble methods are powerful machine learning techniques that combine predictions from multiple models to improve performance. By leveraging the strengths of multiple algorithms, ensemble methods often achieve better accuracy and generalization compared to individual models.\n",
    "\n",
    "### Why use ensemble methods?\n",
    "- **Reduce overfitting**: Combining models reduces the risk of overfitting to the training data.\n",
    "- **Improve predictions**: The ensemble can outperform the best individual model.\n",
    "- **Flexibility**: Works with various machine learning algorithms.\n",
    "\n",
    "### Types of Ensemble Techniques\n",
    "1. **Bagging (Bootstrap Aggregating)**: Combines predictions of multiple models trained independently.\n",
    "2. **Boosting**: Builds models sequentially, with each model correcting errors of the previous one.\n",
    "3. **Stacking**: Combines predictions from multiple base models using a meta-model.\n"
   ]
  },
  {
   "cell_type": "markdown",
   "metadata": {},
   "source": [
    "## Bagging with Random Forest\n",
    "\n",
    "Bagging, or Bootstrap Aggregating, is a technique that trains multiple models on different random subsets of the data. The final prediction is an aggregate of these models (e.g., majority voting for classification or averaging for regression).\n",
    "\n",
    "### Random Forest\n",
    "Random Forest is a popular bagging algorithm that builds multiple decision trees and combines their outputs to make robust predictions.\n"
   ]
  },
  {
   "cell_type": "code",
   "execution_count": 46,
   "metadata": {},
   "outputs": [
    {
     "name": "stdout",
     "output_type": "stream",
     "text": [
      "Accuracy: 0.9649122807017544\n"
     ]
    }
   ],
   "source": [
    "# Import libraries\n",
    "from sklearn.ensemble import RandomForestClassifier\n",
    "from sklearn.datasets import load_breast_cancer\n",
    "from sklearn.model_selection import train_test_split\n",
    "from sklearn.metrics import accuracy_score\n",
    "\n",
    "# Load dataset\n",
    "data = load_breast_cancer()\n",
    "X_train, X_test, y_train, y_test = train_test_split(data.data, data.target, test_size=0.2, random_state=42)\n",
    "\n",
    "# Train Random Forest\n",
    "rf = RandomForestClassifier(n_estimators=100, random_state=42)\n",
    "rf.fit(X_train, y_train)\n",
    "\n",
    "# Evaluate\n",
    "y_pred = rf.predict(X_test)\n",
    "print(\"Accuracy:\", accuracy_score(y_test, y_pred))\n"
   ]
  },
  {
   "cell_type": "markdown",
   "metadata": {},
   "source": [
    "## Boosting with AdaBoost\n",
    "\n",
    "Boosting focuses on training models sequentially, where each model attempts to correct the errors made by the previous ones. This leads to a strong final model.\n",
    "\n",
    "### AdaBoost\n",
    "AdaBoost (Adaptive Boosting) works by combining weak learners (e.g., decision stumps) to create a strong learner.\n"
   ]
  },
  {
   "cell_type": "code",
   "execution_count": 47,
   "metadata": {},
   "outputs": [
    {
     "name": "stdout",
     "output_type": "stream",
     "text": [
      "Accuracy: 0.9649122807017544\n"
     ]
    }
   ],
   "source": [
    "from sklearn.ensemble import AdaBoostClassifier\n",
    "\n",
    "# Train AdaBoost\n",
    "ada = AdaBoostClassifier(n_estimators=50, random_state=42, algorithm='SAMME')\n",
    "ada.fit(X_train, y_train)\n",
    "\n",
    "# Evaluate\n",
    "y_pred = ada.predict(X_test)\n",
    "print(\"Accuracy:\", accuracy_score(y_test, y_pred))\n"
   ]
  },
  {
   "cell_type": "markdown",
   "metadata": {},
   "source": [
    "## Gradient Boosting with XGBoost\n",
    "\n",
    "Gradient Boosting builds models sequentially, optimizing for errors using gradient descent. XGBoost is a popular implementation known for its speed and accuracy.\n"
   ]
  },
  {
   "cell_type": "code",
   "execution_count": 48,
   "metadata": {},
   "outputs": [
    {
     "name": "stdout",
     "output_type": "stream",
     "text": [
      "Accuracy: 0.956140350877193\n"
     ]
    }
   ],
   "source": [
    "from xgboost import XGBClassifier\n",
    "\n",
    "# Train XGBoost\n",
    "xgb = XGBClassifier(eval_metric='logloss', random_state=42)\n",
    "xgb.fit(X_train, y_train)\n",
    "\n",
    "# Evaluate\n",
    "y_pred = xgb.predict(X_test)\n",
    "print(\"Accuracy:\", accuracy_score(y_test, y_pred))\n"
   ]
  },
  {
   "cell_type": "markdown",
   "metadata": {},
   "source": [
    "## Stacking\n",
    "\n",
    "Stacking combines predictions from multiple base models (e.g., Random Forest) using a meta-model that learns to optimize final predictions.\n"
   ]
  },
  {
   "cell_type": "code",
   "execution_count": 49,
   "metadata": {},
   "outputs": [
    {
     "name": "stdout",
     "output_type": "stream",
     "text": [
      "Accuracy: 0.9649122807017544\n"
     ]
    }
   ],
   "source": [
    "from sklearn.ensemble import StackingClassifier, RandomForestClassifier, AdaBoostClassifier\n",
    "from sklearn.linear_model import LogisticRegression\n",
    "from sklearn.metrics import accuracy_score\n",
    "\n",
    "# Define base models\n",
    "base_models = [\n",
    "    ('rf', RandomForestClassifier(n_estimators=100, random_state=42)),\n",
    "    ('ada', AdaBoostClassifier(n_estimators=50, random_state=42, algorithm='SAMME'))\n",
    "]\n",
    "\n",
    "# Meta-model\n",
    "meta_model = LogisticRegression()\n",
    "\n",
    "# Stacking Classifier\n",
    "stack = StackingClassifier(estimators=base_models, final_estimator=meta_model)\n",
    "stack.fit(X_train, y_train)\n",
    "\n",
    "# Evaluate\n",
    "y_pred = stack.predict(X_test)\n",
    "print(\"Accuracy:\", accuracy_score(y_test, y_pred))\n"
   ]
  },
  {
   "cell_type": "markdown",
   "metadata": {},
   "source": [
    "## Comparison of Ensemble Techniques\n",
    "\n",
    "Below is a comparison of the accuracy achieved by different ensemble methods on the Iris dataset:\n",
    "\n",
    "- **Random Forest**: High accuracy due to bagging and random feature selection.\n",
    "- **AdaBoost**: Sequential boosting reduces bias but may overfit on noisy data.\n",
    "- **XGBoost**: Optimized gradient boosting with regularization for better performance.\n",
    "- **Stacking**: Combines strengths of multiple algorithms with a meta-model.\n",
    "\n",
    "Visualizing the performance metrics helps in selecting the best method for specific use cases.\n"
   ]
  },
  {
   "cell_type": "code",
   "execution_count": 50,
   "metadata": {},
   "outputs": [
    {
     "data": {
      "image/png": "[encoded data removed]",
      "text/plain": [
       "<Figure size 640x480 with 1 Axes>"
      ]
     },
     "metadata": {},
     "output_type": "display_data"
    },
    {
     "name": "stdout",
     "output_type": "stream",
     "text": [
      "[0.9649122807017544, 0.9649122807017544, 0.956140350877193, 0.9649122807017544]\n"
     ]
    }
   ],
   "source": [
    "# Accuracy comparison\n",
    "import matplotlib.pyplot as plt\n",
    "\n",
    "models = ['Random Forest', 'AdaBoost', 'XGBoost', 'Stacking']\n",
    "accuracies = [accuracy_score(y_test, rf.predict(X_test)),\n",
    "              accuracy_score(y_test, ada.predict(X_test)),\n",
    "              accuracy_score(y_test, xgb.predict(X_test)),\n",
    "              accuracy_score(y_test, stack.predict(X_test))]\n",
    "\n",
    "plt.bar(models, accuracies, color=['blue', 'green', 'orange', 'purple'])\n",
    "plt.ylabel('Accuracy')\n",
    "plt.title('Comparison of Ensemble Methods')\n",
    "plt.ylim(0.8, 1.0)\n",
    "plt.show()\n",
    "\n",
    "print(accuracies)\n"
   ]
  },
  {
   "cell_type": "markdown",
   "metadata": {},
   "source": [
    "# Voting Classifiers\n",
    "\n",
    "## Introduction to Voting Classifiers\n",
    "\n",
    "Voting is a powerful ensemble learning method that combines the predictions of multiple base models to make a final decision. It is particularly effective when the base models are diverse and perform well individually, as it leverages the strengths of each model.\n",
    "\n",
    "## Types of Voting\n",
    "\n",
    "1. **Hard Voting**  \n",
    "   In hard voting, the final prediction is made based on the majority vote from the base models. For classification tasks:\n",
    "   - Each model casts a vote for a class.\n",
    "   - The class with the most votes is selected as the final prediction.\n",
    "\n",
    "2. **Soft Voting**  \n",
    "   In soft voting, the final prediction is made by averaging the predicted probabilities from each base model. It works better when models provide reliable probability estimates.\n",
    "\n",
    "3. **Weighted Voting**  \n",
    "   Weighted voting extends soft voting by assigning weights to each base model based on their individual performance or importance. Models with higher accuracy or reliability are given greater influence in the final prediction.  \n"
   ]
  },
  {
   "cell_type": "markdown",
   "metadata": {},
   "source": [
    "**Hard Voting**  "
   ]
  },
  {
   "cell_type": "code",
   "execution_count": 51,
   "metadata": {},
   "outputs": [
    {
     "name": "stdout",
     "output_type": "stream",
     "text": [
      "Accuracy (Hard Voting): 0.9649122807017544\n"
     ]
    }
   ],
   "source": [
    "from sklearn.ensemble import VotingClassifier\n",
    "from sklearn.ensemble import RandomForestClassifier, AdaBoostClassifier\n",
    "from sklearn.linear_model import LogisticRegression\n",
    "\n",
    "# Define base models\n",
    "log_reg = LogisticRegression(max_iter=1000, random_state=42, solver='liblinear')\n",
    "rf = RandomForestClassifier(n_estimators=100, random_state=42)\n",
    "ada = AdaBoostClassifier(n_estimators=50, random_state=42, algorithm='SAMME')\n",
    "\n",
    "# Hard Voting Classifier\n",
    "voting_hard = VotingClassifier(estimators=[\n",
    "    ('log_reg', log_reg), \n",
    "    ('rf', rf), \n",
    "    ('ada', ada)], voting='hard')\n",
    "\n",
    "voting_hard.fit(X_train, y_train)\n",
    "\n",
    "# Evaluate\n",
    "from sklearn.metrics import accuracy_score\n",
    "y_pred = voting_hard.predict(X_test)\n",
    "print(\"Accuracy (Hard Voting):\", accuracy_score(y_test, y_pred))\n"
   ]
  },
  {
   "cell_type": "markdown",
   "metadata": {},
   "source": [
    "**Soft Voting**  "
   ]
  },
  {
   "cell_type": "code",
   "execution_count": 52,
   "metadata": {},
   "outputs": [
    {
     "name": "stdout",
     "output_type": "stream",
     "text": [
      "Accuracy (Soft Voting): 0.9736842105263158\n"
     ]
    }
   ],
   "source": [
    "# Soft Voting Classifier\n",
    "voting_soft = VotingClassifier(estimators=[\n",
    "    ('log_reg', log_reg), \n",
    "    ('rf', rf), \n",
    "    ('ada', ada)], voting='soft')\n",
    "\n",
    "voting_soft.fit(X_train, y_train)\n",
    "\n",
    "# Evaluate\n",
    "y_pred = voting_soft.predict(X_test)\n",
    "print(\"Accuracy (Soft Voting):\", accuracy_score(y_test, y_pred))\n"
   ]
  },
  {
   "cell_type": "markdown",
   "metadata": {},
   "source": [
    "**Weighted Voting**\n",
    "\n",
    "   **Example**:\n",
    "   - Suppose three models have prediction accuracies of 80%, 70%, and 60%.\n",
    "   - Assign weights proportionally, e.g., 4, 3, and 2.\n",
    "   - The final prediction will reflect the weighted contribution of each model."
   ]
  },
  {
   "cell_type": "code",
   "execution_count": 53,
   "metadata": {},
   "outputs": [
    {
     "name": "stdout",
     "output_type": "stream",
     "text": [
      "Accuracy (Weighted Voting): 0.9736842105263158\n"
     ]
    }
   ],
   "source": [
    "# Weighted Voting Classifier\n",
    "voting_weighted = VotingClassifier(estimators=[\n",
    "    ('log_reg', log_reg), \n",
    "    ('rf', rf), \n",
    "    ('ada', ada)], voting='soft', weights=[1, 2, 3]) # Higher weight for AdaBoost\n",
    "\n",
    "voting_weighted.fit(X_train, y_train)\n",
    "\n",
    "# Evaluate\n",
    "y_pred = voting_weighted.predict(X_test)\n",
    "print(\"Accuracy (Weighted Voting):\", accuracy_score(y_test, y_pred))\n"
   ]
  }
 ],
 "metadata": {
  "kernelspec": {
   "display_name": "lab7_venv",
   "language": "python",
   "name": "python3"
  },
  "language_info": {
   "codemirror_mode": {
    "name": "ipython",
    "version": 3
   },
   "file_extension": ".py",
   "mimetype": "text/x-python",
   "name": "python",
   "nbconvert_exporter": "python",
   "pygments_lexer": "ipython3",
   "version": "3.10.0"
  }
 },
 "nbformat": 4,
 "nbformat_minor": 2
}
