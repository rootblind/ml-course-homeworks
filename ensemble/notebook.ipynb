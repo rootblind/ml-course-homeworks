{
 "cells": [
  {
   "cell_type": "code",
   "execution_count": 94,
   "metadata": {},
   "outputs": [],
   "source": [
    "\n",
    "from sklearn.model_selection import train_test_split\n",
    "import pandas as pd\n",
    "from sklearn.metrics import accuracy_score\n",
    "from sklearn.ensemble import AdaBoostClassifier\n",
    "from xgboost import XGBClassifier\n",
    "from sklearn.ensemble import StackingClassifier, RandomForestClassifier, AdaBoostClassifier\n",
    "from sklearn.linear_model import LogisticRegression\n",
    "from sklearn.metrics import accuracy_score\n",
    "import matplotlib.pyplot as plt\n",
    "import numpy as np\n",
    "from sklearn.preprocessing import LabelEncoder\n",
    "import seaborn as sns"
   ]
  },
  {
   "cell_type": "code",
   "execution_count": 95,
   "metadata": {},
   "outputs": [],
   "source": [
    "df = pd.read_csv('data.csv')\n",
    "df.drop(columns=['Age','Gender','Weight (kg)','Height (m)','Max_BPM','Resting_BPM','Session_Duration (hours)','Fat_Percentage','Water_Intake (liters)','Workout_Frequency (days/week)','Experience_Level'], inplace=True)"
   ]
  },
  {
   "cell_type": "code",
   "execution_count": 96,
   "metadata": {},
   "outputs": [
    {
     "data": {
      "text/plain": [
       "Index(['Avg_BPM', 'Calories_Burned', 'Workout_Type', 'BMI'], dtype='object')"
      ]
     },
     "execution_count": 96,
     "metadata": {},
     "output_type": "execute_result"
    }
   ],
   "source": [
    "df.columns"
   ]
  },
  {
   "cell_type": "code",
   "execution_count": 97,
   "metadata": {},
   "outputs": [
    {
     "data": {
      "text/html": [
       "<div>\n",
       "<style scoped>\n",
       "    .dataframe tbody tr th:only-of-type {\n",
       "        vertical-align: middle;\n",
       "    }\n",
       "\n",
       "    .dataframe tbody tr th {\n",
       "        vertical-align: top;\n",
       "    }\n",
       "\n",
       "    .dataframe thead th {\n",
       "        text-align: right;\n",
       "    }\n",
       "</style>\n",
       "<table border=\"1\" class=\"dataframe\">\n",
       "  <thead>\n",
       "    <tr style=\"text-align: right;\">\n",
       "      <th></th>\n",
       "      <th>Avg_BPM</th>\n",
       "      <th>Calories_Burned</th>\n",
       "      <th>BMI</th>\n",
       "    </tr>\n",
       "  </thead>\n",
       "  <tbody>\n",
       "    <tr>\n",
       "      <th>count</th>\n",
       "      <td>973.000000</td>\n",
       "      <td>973.000000</td>\n",
       "      <td>973.000000</td>\n",
       "    </tr>\n",
       "    <tr>\n",
       "      <th>mean</th>\n",
       "      <td>143.766701</td>\n",
       "      <td>905.422405</td>\n",
       "      <td>24.912127</td>\n",
       "    </tr>\n",
       "    <tr>\n",
       "      <th>std</th>\n",
       "      <td>14.345101</td>\n",
       "      <td>272.641516</td>\n",
       "      <td>6.660879</td>\n",
       "    </tr>\n",
       "    <tr>\n",
       "      <th>min</th>\n",
       "      <td>120.000000</td>\n",
       "      <td>303.000000</td>\n",
       "      <td>12.320000</td>\n",
       "    </tr>\n",
       "    <tr>\n",
       "      <th>25%</th>\n",
       "      <td>131.000000</td>\n",
       "      <td>720.000000</td>\n",
       "      <td>20.110000</td>\n",
       "    </tr>\n",
       "    <tr>\n",
       "      <th>50%</th>\n",
       "      <td>143.000000</td>\n",
       "      <td>893.000000</td>\n",
       "      <td>24.160000</td>\n",
       "    </tr>\n",
       "    <tr>\n",
       "      <th>75%</th>\n",
       "      <td>156.000000</td>\n",
       "      <td>1076.000000</td>\n",
       "      <td>28.560000</td>\n",
       "    </tr>\n",
       "    <tr>\n",
       "      <th>max</th>\n",
       "      <td>169.000000</td>\n",
       "      <td>1783.000000</td>\n",
       "      <td>49.840000</td>\n",
       "    </tr>\n",
       "  </tbody>\n",
       "</table>\n",
       "</div>"
      ],
      "text/plain": [
       "          Avg_BPM  Calories_Burned         BMI\n",
       "count  973.000000       973.000000  973.000000\n",
       "mean   143.766701       905.422405   24.912127\n",
       "std     14.345101       272.641516    6.660879\n",
       "min    120.000000       303.000000   12.320000\n",
       "25%    131.000000       720.000000   20.110000\n",
       "50%    143.000000       893.000000   24.160000\n",
       "75%    156.000000      1076.000000   28.560000\n",
       "max    169.000000      1783.000000   49.840000"
      ]
     },
     "execution_count": 97,
     "metadata": {},
     "output_type": "execute_result"
    }
   ],
   "source": [
    "df.describe()"
   ]
  },
  {
   "cell_type": "code",
   "execution_count": 98,
   "metadata": {},
   "outputs": [
    {
     "name": "stdout",
     "output_type": "stream",
     "text": [
      "<class 'pandas.core.frame.DataFrame'>\n",
      "RangeIndex: 973 entries, 0 to 972\n",
      "Data columns (total 4 columns):\n",
      " #   Column           Non-Null Count  Dtype  \n",
      "---  ------           --------------  -----  \n",
      " 0   Avg_BPM          973 non-null    int64  \n",
      " 1   Calories_Burned  973 non-null    float64\n",
      " 2   Workout_Type     973 non-null    object \n",
      " 3   BMI              973 non-null    float64\n",
      "dtypes: float64(2), int64(1), object(1)\n",
      "memory usage: 30.5+ KB\n"
     ]
    }
   ],
   "source": [
    "df.info()"
   ]
  },
  {
   "cell_type": "code",
   "execution_count": 99,
   "metadata": {},
   "outputs": [
    {
     "data": {
      "text/html": [
       "<div>\n",
       "<style scoped>\n",
       "    .dataframe tbody tr th:only-of-type {\n",
       "        vertical-align: middle;\n",
       "    }\n",
       "\n",
       "    .dataframe tbody tr th {\n",
       "        vertical-align: top;\n",
       "    }\n",
       "\n",
       "    .dataframe thead th {\n",
       "        text-align: right;\n",
       "    }\n",
       "</style>\n",
       "<table border=\"1\" class=\"dataframe\">\n",
       "  <thead>\n",
       "    <tr style=\"text-align: right;\">\n",
       "      <th></th>\n",
       "      <th>Avg_BPM</th>\n",
       "      <th>Calories_Burned</th>\n",
       "      <th>Workout_Type</th>\n",
       "      <th>BMI</th>\n",
       "    </tr>\n",
       "  </thead>\n",
       "  <tbody>\n",
       "    <tr>\n",
       "      <th>0</th>\n",
       "      <td>157</td>\n",
       "      <td>1313.0</td>\n",
       "      <td>Yoga</td>\n",
       "      <td>30.20</td>\n",
       "    </tr>\n",
       "    <tr>\n",
       "      <th>1</th>\n",
       "      <td>151</td>\n",
       "      <td>883.0</td>\n",
       "      <td>HIIT</td>\n",
       "      <td>32.00</td>\n",
       "    </tr>\n",
       "    <tr>\n",
       "      <th>2</th>\n",
       "      <td>122</td>\n",
       "      <td>677.0</td>\n",
       "      <td>Cardio</td>\n",
       "      <td>24.71</td>\n",
       "    </tr>\n",
       "    <tr>\n",
       "      <th>3</th>\n",
       "      <td>164</td>\n",
       "      <td>532.0</td>\n",
       "      <td>Strength</td>\n",
       "      <td>18.41</td>\n",
       "    </tr>\n",
       "    <tr>\n",
       "      <th>4</th>\n",
       "      <td>158</td>\n",
       "      <td>556.0</td>\n",
       "      <td>Strength</td>\n",
       "      <td>14.39</td>\n",
       "    </tr>\n",
       "  </tbody>\n",
       "</table>\n",
       "</div>"
      ],
      "text/plain": [
       "   Avg_BPM  Calories_Burned Workout_Type    BMI\n",
       "0      157           1313.0         Yoga  30.20\n",
       "1      151            883.0         HIIT  32.00\n",
       "2      122            677.0       Cardio  24.71\n",
       "3      164            532.0     Strength  18.41\n",
       "4      158            556.0     Strength  14.39"
      ]
     },
     "execution_count": 99,
     "metadata": {},
     "output_type": "execute_result"
    }
   ],
   "source": [
    "df.head()"
   ]
  },
  {
   "cell_type": "code",
   "execution_count": 100,
   "metadata": {},
   "outputs": [
    {
     "name": "stdout",
     "output_type": "stream",
     "text": [
      "                  Avg_BPM  Calories_Burned       BMI\n",
      "Avg_BPM          1.000000         0.339659  0.021605\n",
      "Calories_Burned  0.339659         1.000000  0.059761\n",
      "BMI              0.021605         0.059761  1.000000\n"
     ]
    }
   ],
   "source": [
    "numeric_df = df.select_dtypes(include=[np.number])\n",
    "\n",
    "# Compute the correlation matrix\n",
    "correlation_matrix = numeric_df.corr()\n",
    "\n",
    "# Display the correlation matrix\n",
    "print(correlation_matrix)"
   ]
  },
  {
   "cell_type": "code",
   "execution_count": 101,
   "metadata": {},
   "outputs": [],
   "source": [
    "labelEncoder = LabelEncoder()\n",
    "\n",
    "df[\"Workout_Type\"] = labelEncoder.fit_transform(df[\"Workout_Type\"])"
   ]
  },
  {
   "cell_type": "code",
   "execution_count": 102,
   "metadata": {},
   "outputs": [
    {
     "data": {
      "text/plain": [
       "<Axes: >"
      ]
     },
     "execution_count": 102,
     "metadata": {},
     "output_type": "execute_result"
    },
    {
     "data": {
      "image/png": "[encoded data removed]",
      "text/plain": [
       "<Figure size 500x500 with 1 Axes>"
      ]
     },
     "metadata": {},
     "output_type": "display_data"
    }
   ],
   "source": [
    "plt.figure(figsize=(5,5))\n",
    "sns.heatmap(correlation_matrix, annot=True, fmt='.1f', cbar=None,cmap='viridis')"
   ]
  },
  {
   "cell_type": "code",
   "execution_count": 103,
   "metadata": {},
   "outputs": [],
   "source": [
    "X = df.drop(\"Workout_Type\", axis=1)\n",
    "y = df[\"Workout_Type\"].values"
   ]
  },
  {
   "cell_type": "code",
   "execution_count": 104,
   "metadata": {},
   "outputs": [],
   "source": [
    "X_train, X_test, y_train, y_test = train_test_split(X, y, test_size=0.2, random_state=42)"
   ]
  },
  {
   "cell_type": "code",
   "execution_count": 105,
   "metadata": {},
   "outputs": [
    {
     "name": "stdout",
     "output_type": "stream",
     "text": [
      "Accuracy: 0.23076923076923078\n"
     ]
    }
   ],
   "source": [
    "# Train Random Forest\n",
    "rf = RandomForestClassifier(n_estimators=100, random_state=42)\n",
    "rf.fit(X_train, y_train)\n",
    "\n",
    "# Evaluate\n",
    "y_pred = rf.predict(X_test)\n",
    "print(\"Accuracy:\", accuracy_score(y_test, y_pred))"
   ]
  },
  {
   "cell_type": "code",
   "execution_count": 106,
   "metadata": {},
   "outputs": [
    {
     "name": "stdout",
     "output_type": "stream",
     "text": [
      "Accuracy: 0.23076923076923078\n"
     ]
    }
   ],
   "source": [
    "ada = AdaBoostClassifier(n_estimators=50, random_state=42, algorithm='SAMME')\n",
    "ada.fit(X_train, y_train)\n",
    "\n",
    "# Evaluate\n",
    "y_pred = ada.predict(X_test)\n",
    "print(\"Accuracy:\", accuracy_score(y_test, y_pred))"
   ]
  },
  {
   "cell_type": "code",
   "execution_count": 107,
   "metadata": {},
   "outputs": [
    {
     "name": "stdout",
     "output_type": "stream",
     "text": [
      "Accuracy: 0.23076923076923078\n"
     ]
    }
   ],
   "source": [
    "# Train XGBoost\n",
    "xgb = XGBClassifier(eval_metric='logloss', random_state=42)\n",
    "xgb.fit(X_train, y_train)\n",
    "\n",
    "# Evaluate\n",
    "y_pred = xgb.predict(X_test)\n",
    "print(\"Accuracy:\", accuracy_score(y_test, y_pred))\n"
   ]
  },
  {
   "cell_type": "code",
   "execution_count": 108,
   "metadata": {},
   "outputs": [
    {
     "name": "stdout",
     "output_type": "stream",
     "text": [
      "Accuracy: 0.24615384615384617\n"
     ]
    }
   ],
   "source": [
    "# Define base models\n",
    "base_models = [\n",
    "    ('rf', RandomForestClassifier(n_estimators=100, random_state=42)),\n",
    "    ('ada', AdaBoostClassifier(n_estimators=50, random_state=42, algorithm='SAMME'))\n",
    "]\n",
    "\n",
    "# Meta-model\n",
    "meta_model = LogisticRegression()\n",
    "\n",
    "# Stacking Classifier\n",
    "stack = StackingClassifier(estimators=base_models, final_estimator=meta_model)\n",
    "stack.fit(X_train, y_train)\n",
    "\n",
    "# Evaluate\n",
    "y_pred = stack.predict(X_test)\n",
    "print(\"Accuracy:\", accuracy_score(y_test, y_pred))"
   ]
  },
  {
   "cell_type": "code",
   "execution_count": 109,
   "metadata": {},
   "outputs": [
    {
     "data": {
      "image/png": "[encoded data removed]",
      "text/plain": [
       "<Figure size 640x480 with 1 Axes>"
      ]
     },
     "metadata": {},
     "output_type": "display_data"
    },
    {
     "name": "stdout",
     "output_type": "stream",
     "text": [
      "[0.23076923076923078, 0.23076923076923078, 0.23076923076923078, 0.24615384615384617]\n"
     ]
    }
   ],
   "source": [
    "models = ['Random Forest', 'AdaBoost', 'XGBoost', 'Stacking']\n",
    "accuracies = [accuracy_score(y_test, rf.predict(X_test)),\n",
    "              accuracy_score(y_test, ada.predict(X_test)),\n",
    "              accuracy_score(y_test, xgb.predict(X_test)),\n",
    "              accuracy_score(y_test, stack.predict(X_test))]\n",
    "\n",
    "plt.bar(models, accuracies, color=['blue', 'green', 'orange', 'purple'])\n",
    "plt.ylabel('Accuracy')\n",
    "plt.title('Comparison of Ensemble Methods')\n",
    "plt.ylim(0, 1.0)\n",
    "plt.show()\n",
    "\n",
    "print(accuracies)"
   ]
  },
  {
   "cell_type": "code",
   "execution_count": 110,
   "metadata": {},
   "outputs": [
    {
     "name": "stdout",
     "output_type": "stream",
     "text": [
      "Accuracy (Hard Voting): 0.23076923076923078\n"
     ]
    }
   ],
   "source": [
    "# Define base models\n",
    "from sklearn.ensemble import VotingClassifier\n",
    "\n",
    "log_reg = LogisticRegression(max_iter=1000, random_state=42, solver='liblinear')\n",
    "rf = RandomForestClassifier(n_estimators=100, random_state=42)\n",
    "ada = AdaBoostClassifier(n_estimators=50, random_state=42, algorithm='SAMME')\n",
    "\n",
    "# Hard Voting Classifier\n",
    "voting_hard = VotingClassifier(estimators=[\n",
    "    ('log_reg', log_reg), \n",
    "    ('rf', rf), \n",
    "    ('ada', ada)], voting='hard')\n",
    "\n",
    "voting_hard.fit(X_train, y_train)\n",
    "\n",
    "# Evaluate\n",
    "from sklearn.metrics import accuracy_score\n",
    "y_pred = voting_hard.predict(X_test)\n",
    "print(\"Accuracy (Hard Voting):\", accuracy_score(y_test, y_pred))\n"
   ]
  },
  {
   "cell_type": "code",
   "execution_count": 111,
   "metadata": {},
   "outputs": [
    {
     "name": "stdout",
     "output_type": "stream",
     "text": [
      "Accuracy (Soft Voting): 0.24102564102564103\n"
     ]
    }
   ],
   "source": [
    "# Soft Voting Classifier\n",
    "voting_soft = VotingClassifier(estimators=[\n",
    "    ('log_reg', log_reg), \n",
    "    ('rf', rf), \n",
    "    ('ada', ada)], voting='soft')\n",
    "\n",
    "voting_soft.fit(X_train, y_train)\n",
    "\n",
    "# Evaluate\n",
    "y_pred = voting_soft.predict(X_test)\n",
    "print(\"Accuracy (Soft Voting):\", accuracy_score(y_test, y_pred))\n"
   ]
  },
  {
   "cell_type": "code",
   "execution_count": 112,
   "metadata": {},
   "outputs": [
    {
     "name": "stdout",
     "output_type": "stream",
     "text": [
      "Accuracy (Weighted Voting): 0.2205128205128205\n"
     ]
    }
   ],
   "source": [
    "# Weighted Voting Classifier\n",
    "voting_weighted = VotingClassifier(estimators=[\n",
    "    ('log_reg', log_reg), \n",
    "    ('rf', rf), \n",
    "    ('ada', ada)], voting='soft', weights=[1, 2, 3]) # Higher weight for AdaBoost\n",
    "\n",
    "voting_weighted.fit(X_train, y_train)\n",
    "\n",
    "# Evaluate\n",
    "y_pred = voting_weighted.predict(X_test)\n",
    "print(\"Accuracy (Weighted Voting):\", accuracy_score(y_test, y_pred))\n"
   ]
  }
 ],
 "metadata": {
  "kernelspec": {
   "display_name": "Python 3",
   "language": "python",
   "name": "python3"
  },
  "language_info": {
   "codemirror_mode": {
    "name": "ipython",
    "version": 3
   },
   "file_extension": ".py",
   "mimetype": "text/x-python",
   "name": "python",
   "nbconvert_exporter": "python",
   "pygments_lexer": "ipython3",
   "version": "3.12.4"
  }
 },
 "nbformat": 4,
 "nbformat_minor": 2
}
